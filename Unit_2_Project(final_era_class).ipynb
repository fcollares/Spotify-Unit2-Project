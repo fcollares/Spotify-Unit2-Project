{
  "nbformat": 4,
  "nbformat_minor": 0,
  "metadata": {
    "colab": {
      "name": "Unit 2 Project(final_era_class)",
      "provenance": [],
      "collapsed_sections": [
        "jR9boGqV6pSx"
      ]
    },
    "kernelspec": {
      "name": "python3",
      "display_name": "Python 3"
    }
  },
  "cells": [
    {
      "cell_type": "markdown",
      "metadata": {
        "id": "ZJUKQVNTfQZG"
      },
      "source": [
        "##Set up\r\n"
      ]
    },
    {
      "cell_type": "code",
      "metadata": {
        "id": "t0hfDKqrFfmg",
        "colab": {
          "base_uri": "https://localhost:8080/"
        },
        "outputId": "ed83ffd6-4c75-46b7-8fb6-5a15ae11cc1d"
      },
      "source": [
        "import sys\r\n",
        "\r\n",
        "# If you're on Colab:\r\n",
        "if 'google.colab' in sys.modules:\r\n",
        "    DATA_PATH = 'https://drive.google.com/uc?export=download&id=h1XVeZoF7rvDbSS38_MML6Rm2GCnHQEFI0'\r\n",
        "    !pip install category_encoders==2.*\r\n",
        "    !pip install pdpbox\r\n",
        "    #shap\r\n",
        "    #dpdbox\r\n",
        "    \r\n",
        "\r\n",
        "# If you're working locally:\r\n",
        "else:\r\n",
        "    DATA_PATH = '../data/'\r\n",
        "\r\n",
        "#import category_encoders as ce\r\n",
        "import matplotlib.pyplot as plt\r\n",
        "import numpy as np\r\n",
        "import pandas as pd\r\n",
        "import seaborn as sns\r\n",
        "from sklearn.impute import SimpleImputer\r\n",
        "from sklearn.metrics import accuracy_score\r\n",
        "from sklearn.model_selection import train_test_split\r\n",
        "from sklearn.pipeline import make_pipeline\r\n",
        "from sklearn.preprocessing import FunctionTransformer\r\n",
        "from sklearn.ensemble import RandomForestClassifier\r\n",
        "from sklearn.ensemble import RandomForestRegressor\r\n",
        "from sklearn.metrics import classification_report, plot_roc_curve, roc_auc_score, plot_confusion_matrix\r\n",
        "from sklearn.inspection import permutation_importance\r\n",
        "\r\n",
        "from xgboost import XGBRegressor, XGBClassifier\r\n",
        "from sklearn.metrics import mean_absolute_error\r\n",
        "from sklearn.preprocessing import StandardScaler\r\n",
        "from sklearn.linear_model import LogisticRegression\r\n",
        "from category_encoders import OrdinalEncoder, OneHotEncoder\r\n",
        "from sklearn.metrics import r2_score\r\n",
        "from sklearn.linear_model import Ridge\r\n",
        "from pdpbox.pdp import pdp_interact, pdp_interact_plot\r\n",
        "\r\n",
        "\r\n",
        "\r\n",
        "\r\n",
        "#from google.colab import files\r\n",
        "#from google.colab import drive\r\n",
        "#drive.mount('drive', force_remount=True)"
      ],
      "execution_count": 68,
      "outputs": [
        {
          "output_type": "stream",
          "text": [
            "Requirement already satisfied: category_encoders==2.* in /usr/local/lib/python3.6/dist-packages (2.2.2)\n",
            "Requirement already satisfied: patsy>=0.5.1 in /usr/local/lib/python3.6/dist-packages (from category_encoders==2.*) (0.5.1)\n",
            "Requirement already satisfied: statsmodels>=0.9.0 in /usr/local/lib/python3.6/dist-packages (from category_encoders==2.*) (0.10.2)\n",
            "Requirement already satisfied: scikit-learn>=0.20.0 in /usr/local/lib/python3.6/dist-packages (from category_encoders==2.*) (0.22.2.post1)\n",
            "Requirement already satisfied: numpy>=1.14.0 in /usr/local/lib/python3.6/dist-packages (from category_encoders==2.*) (1.19.5)\n",
            "Requirement already satisfied: scipy>=1.0.0 in /usr/local/lib/python3.6/dist-packages (from category_encoders==2.*) (1.4.1)\n",
            "Requirement already satisfied: pandas>=0.21.1 in /usr/local/lib/python3.6/dist-packages (from category_encoders==2.*) (1.1.5)\n",
            "Requirement already satisfied: six in /usr/local/lib/python3.6/dist-packages (from patsy>=0.5.1->category_encoders==2.*) (1.15.0)\n",
            "Requirement already satisfied: joblib>=0.11 in /usr/local/lib/python3.6/dist-packages (from scikit-learn>=0.20.0->category_encoders==2.*) (1.0.0)\n",
            "Requirement already satisfied: pytz>=2017.2 in /usr/local/lib/python3.6/dist-packages (from pandas>=0.21.1->category_encoders==2.*) (2018.9)\n",
            "Requirement already satisfied: python-dateutil>=2.7.3 in /usr/local/lib/python3.6/dist-packages (from pandas>=0.21.1->category_encoders==2.*) (2.8.1)\n",
            "Requirement already satisfied: pdpbox in /usr/local/lib/python3.6/dist-packages (0.2.0)\n",
            "Requirement already satisfied: matplotlib>=2.1.2 in /usr/local/lib/python3.6/dist-packages (from pdpbox) (3.2.2)\n",
            "Requirement already satisfied: pandas in /usr/local/lib/python3.6/dist-packages (from pdpbox) (1.1.5)\n",
            "Requirement already satisfied: scipy in /usr/local/lib/python3.6/dist-packages (from pdpbox) (1.4.1)\n",
            "Requirement already satisfied: scikit-learn in /usr/local/lib/python3.6/dist-packages (from pdpbox) (0.22.2.post1)\n",
            "Requirement already satisfied: numpy in /usr/local/lib/python3.6/dist-packages (from pdpbox) (1.19.5)\n",
            "Requirement already satisfied: joblib in /usr/local/lib/python3.6/dist-packages (from pdpbox) (1.0.0)\n",
            "Requirement already satisfied: psutil in /usr/local/lib/python3.6/dist-packages (from pdpbox) (5.4.8)\n",
            "Requirement already satisfied: kiwisolver>=1.0.1 in /usr/local/lib/python3.6/dist-packages (from matplotlib>=2.1.2->pdpbox) (1.3.1)\n",
            "Requirement already satisfied: pyparsing!=2.0.4,!=2.1.2,!=2.1.6,>=2.0.1 in /usr/local/lib/python3.6/dist-packages (from matplotlib>=2.1.2->pdpbox) (2.4.7)\n",
            "Requirement already satisfied: python-dateutil>=2.1 in /usr/local/lib/python3.6/dist-packages (from matplotlib>=2.1.2->pdpbox) (2.8.1)\n",
            "Requirement already satisfied: cycler>=0.10 in /usr/local/lib/python3.6/dist-packages (from matplotlib>=2.1.2->pdpbox) (0.10.0)\n",
            "Requirement already satisfied: pytz>=2017.2 in /usr/local/lib/python3.6/dist-packages (from pandas->pdpbox) (2018.9)\n",
            "Requirement already satisfied: six>=1.5 in /usr/local/lib/python3.6/dist-packages (from python-dateutil>=2.1->matplotlib>=2.1.2->pdpbox) (1.15.0)\n"
          ],
          "name": "stdout"
        }
      ]
    },
    {
      "cell_type": "code",
      "metadata": {
        "id": "apZZt8pGfNNq"
      },
      "source": [
        "  #wrote a function to generate era names given a year\r\n",
        "  def eracalc(year):\r\n",
        "    if (year >= 1960) & (year <=1969):\r\n",
        "       return '60s'\r\n",
        "\r\n",
        "    elif (year >= 1970) & (year <=1979):\r\n",
        "      return '70s'  \r\n",
        "\r\n",
        "    elif (year >= 1980) & (year <=1989):\r\n",
        "      return '80s'  \r\n",
        "\r\n",
        "    elif (year >= 1990) & (year <=1999):\r\n",
        "      return '90s' \r\n",
        "\r\n",
        "    else:\r\n",
        "      return 'NA'   \r\n",
        " "
      ],
      "execution_count": 69,
      "outputs": []
    },
    {
      "cell_type": "markdown",
      "metadata": {
        "id": "y4wm9w1ife6L"
      },
      "source": [
        "## Wrangle Data\r\n"
      ]
    },
    {
      "cell_type": "code",
      "metadata": {
        "id": "QxQbIPf-aaDV"
      },
      "source": [
        "#Data Wrangle function:\r\n",
        "\r\n",
        "def wrangle(filepath):\r\n",
        "  df = pd.read_csv(filepath, parse_dates=['release_date'])\r\n",
        "\r\n",
        "  #make new features\r\n",
        "  df['month'] = df['release_date'].dt.month\r\n",
        "  df['name_length'] = df['name'].str.len()\r\n",
        "\r\n",
        "  #set release date as the index\r\n",
        "  df.set_index('release_date', inplace=True)\r\n",
        "\r\n",
        "  #using eracalc function build above\r\n",
        "  df['era'] = df['year'].apply(eracalc)\r\n",
        "\r\n",
        "  #Subset data to include from 1960-1999\r\n",
        "  condition = (df['year'] >= 1960) & (df['year'] <= 1999)\r\n",
        "  df = df[condition]\r\n",
        "  \r\n",
        "  #Sorting values by era and then by popularity\r\n",
        "  df = df.sort_values(by=['era', 'popularity'], ascending=[True, False])\r\n",
        "  \r\n",
        "  #Subsetting df to include top 1000 songs in each era\r\n",
        "  eras = df['era'].unique()\r\n",
        "  df_new = pd.DataFrame()\r\n",
        "\r\n",
        "  for era in eras:\r\n",
        "     df_era = df[df['era'] == era]\r\n",
        "     df_era = df_era.iloc[:2000, :]\r\n",
        "     df_new = df_new.append(df_era)\r\n",
        "\r\n",
        "   \r\n",
        "\r\n",
        "\r\n",
        "  #Drop high cardinality & constant features\r\n",
        "  df_new.drop(columns= ['artists', 'id', 'name', 'year'], inplace = True)\r\n",
        "\r\n",
        "  #rearraging similar features to be together to improve readability\r\n",
        "  # df = df[['artists', 'name', 'release_date', 'year', 'duration_ms', 'popularity',\r\n",
        "  #         'valence', 'acousticness', 'danceability',\r\n",
        "  #         'energy', 'instrumentalness', 'liveness', 'loudness',  \r\n",
        "  #         'speechiness','tempo', 'key',\r\n",
        "  #         'explicit', 'mode']]\r\n",
        "  return df_new\r\n",
        "\r\n",
        "df = wrangle('data.csv')\r\n",
        "\r\n"
      ],
      "execution_count": 70,
      "outputs": []
    },
    {
      "cell_type": "markdown",
      "metadata": {
        "id": "jR9boGqV6pSx"
      },
      "source": [
        "## EDA\r\n"
      ]
    },
    {
      "cell_type": "code",
      "metadata": {
        "colab": {
          "base_uri": "https://localhost:8080/",
          "height": 295
        },
        "id": "aqSYeQDX3W-W",
        "outputId": "dee2320e-8d64-4a01-80e5-de5811de93ad"
      },
      "source": [
        "import seaborn as sns\r\n",
        "sns.set_style('whitegrid')\r\n",
        "\r\n",
        "ax1 = sns.boxplot(x=\"popularity\", y=\"era\", orient= 'h', data=df, showfliers=False).set_title('Song Popularity by Era')\r\n"
      ],
      "execution_count": 71,
      "outputs": [
        {
          "output_type": "display_data",
          "data": {
            "image/png": "[encoded data removed]",
            "text/plain": [
              "<Figure size 432x288 with 1 Axes>"
            ]
          },
          "metadata": {
            "tags": []
          }
        }
      ]
    },
    {
      "cell_type": "code",
      "metadata": {
        "colab": {
          "base_uri": "https://localhost:8080/",
          "height": 296
        },
        "id": "AaSBaPet5dmT",
        "outputId": "502ab573-5e56-425f-8a95-1ffc06a99e89"
      },
      "source": [
        "sns.set_style('whitegrid')\r\n",
        "\r\n",
        "ax2 = sns.boxplot(x=\"duration_ms\", y=\"era\", orient= 'h', data=df, showfliers=False).set_title('Song Duration by Era (in milliseconds)')\r\n"
      ],
      "execution_count": 72,
      "outputs": [
        {
          "output_type": "display_data",
          "data": {
            "image/png": "[encoded data removed]",
            "text/plain": [
              "<Figure size 432x288 with 1 Axes>"
            ]
          },
          "metadata": {
            "tags": []
          }
        }
      ]
    },
    {
      "cell_type": "code",
      "metadata": {
        "colab": {
          "base_uri": "https://localhost:8080/",
          "height": 295
        },
        "id": "FpLnSCOX585L",
        "outputId": "5c74cd55-a225-4011-8cad-64b7ac149d01"
      },
      "source": [
        "sns.set_style('whitegrid')\r\n",
        "\r\n",
        "ax3 = sns.boxplot(x=\"loudness\", y=\"era\", orient= 'h', data=df, showfliers=False).set_title('Loudness Rating by Era')\r\n"
      ],
      "execution_count": 73,
      "outputs": [
        {
          "output_type": "display_data",
          "data": {
            "image/png": "[encoded data removed]",
            "text/plain": [
              "<Figure size 432x288 with 1 Axes>"
            ]
          },
          "metadata": {
            "tags": []
          }
        }
      ]
    },
    {
      "cell_type": "code",
      "metadata": {
        "colab": {
          "base_uri": "https://localhost:8080/",
          "height": 295
        },
        "id": "z4n--Bl_6EVl",
        "outputId": "5931739b-f343-4962-c5fd-d4ebefc43615"
      },
      "source": [
        "sns.set_style('whitegrid')\r\n",
        "\r\n",
        "ax4 = sns.boxplot(x=\"energy\", y=\"era\", orient= 'h', data=df, showfliers=False).set_title('Energy Rating by Era')\r\n"
      ],
      "execution_count": 74,
      "outputs": [
        {
          "output_type": "display_data",
          "data": {
            "image/png": "[encoded data removed]",
            "text/plain": [
              "<Figure size 432x288 with 1 Axes>"
            ]
          },
          "metadata": {
            "tags": []
          }
        }
      ]
    },
    {
      "cell_type": "markdown",
      "metadata": {
        "id": "evuElE236wiJ"
      },
      "source": [
        "## Split Data\r\n"
      ]
    },
    {
      "cell_type": "code",
      "metadata": {
        "id": "sOE85UBpuWZn"
      },
      "source": [
        "#splitting into feature matrix and target vector\r\n",
        "target = 'era'\r\n",
        "X = df.drop(columns = target)\r\n",
        "y = df[target]"
      ],
      "execution_count": 75,
      "outputs": []
    },
    {
      "cell_type": "code",
      "metadata": {
        "id": "cbyF9pPUcJOx"
      },
      "source": [
        "#Train, test, val split, ask why use cutoff instead\r\n",
        "X_train_temp, X_test, y_train_temp, y_test = train_test_split(X, y, train_size= 0.8, random_state=42)\r\n",
        "\r\n",
        "X_train, X_val, y_train, y_val = train_test_split(X_train_temp, y_train_temp, train_size= 0.8, random_state=42)\r\n",
        "\r\n"
      ],
      "execution_count": 76,
      "outputs": []
    },
    {
      "cell_type": "markdown",
      "metadata": {
        "id": "qIl2CNoCwDdZ"
      },
      "source": [
        "## Establish Baseline"
      ]
    },
    {
      "cell_type": "code",
      "metadata": {
        "colab": {
          "base_uri": "https://localhost:8080/"
        },
        "id": "0dIsyGZhxA1K",
        "outputId": "4af68f35-25aa-4eaf-e59e-6f864a2d62f3"
      },
      "source": [
        "#Establishing a baseline accuracy score based on highest value count instance\r\n",
        "baseline_acc = y_train.value_counts(normalize=True).max()\r\n",
        "\r\n",
        "print('Baseline accurary:', baseline_acc)"
      ],
      "execution_count": 77,
      "outputs": [
        {
          "output_type": "stream",
          "text": [
            "Baseline accurary: 0.25390625\n"
          ],
          "name": "stdout"
        }
      ]
    },
    {
      "cell_type": "markdown",
      "metadata": {
        "id": "rMty7cx6ym--"
      },
      "source": [
        "##Build Model"
      ]
    },
    {
      "cell_type": "code",
      "metadata": {
        "id": "zDiql8UOypSa",
        "colab": {
          "base_uri": "https://localhost:8080/"
        },
        "outputId": "19830b46-e68a-4ae0-cda8-379f53816a7e"
      },
      "source": [
        "# 1. Logistic Regression\r\n",
        "model_lr = make_pipeline(\r\n",
        "          StandardScaler(),\r\n",
        "          LogisticRegression()\r\n",
        ")\r\n",
        "\r\n",
        "model_lr.fit(X_train, y_train)"
      ],
      "execution_count": 78,
      "outputs": [
        {
          "output_type": "execute_result",
          "data": {
            "text/plain": [
              "Pipeline(memory=None,\n",
              "         steps=[('standardscaler',\n",
              "                 StandardScaler(copy=True, with_mean=True, with_std=True)),\n",
              "                ('logisticregression',\n",
              "                 LogisticRegression(C=1.0, class_weight=None, dual=False,\n",
              "                                    fit_intercept=True, intercept_scaling=1,\n",
              "                                    l1_ratio=None, max_iter=100,\n",
              "                                    multi_class='auto', n_jobs=None,\n",
              "                                    penalty='l2', random_state=None,\n",
              "                                    solver='lbfgs', tol=0.0001, verbose=0,\n",
              "                                    warm_start=False))],\n",
              "         verbose=False)"
            ]
          },
          "metadata": {
            "tags": []
          },
          "execution_count": 78
        }
      ]
    },
    {
      "cell_type": "code",
      "metadata": {
        "id": "0ujhYp_7z7FU"
      },
      "source": [
        "# 3. Random Forest\r\n",
        "model_rf = make_pipeline(\r\n",
        "            RandomForestClassifier(random_state=42,\r\n",
        "                                   n_jobs= -1)\r\n",
        ")\r\n",
        "\r\n",
        "\r\n",
        "model_rf.fit(X_train, y_train);"
      ],
      "execution_count": 79,
      "outputs": []
    },
    {
      "cell_type": "code",
      "metadata": {
        "id": "LLQeYyDKhH7Z"
      },
      "source": [
        "#4. XGB\r\n",
        "model_xgb = make_pipeline(\r\n",
        "              XGBClassifier(random_state=42,\r\n",
        "                            n_jobs=-1)\r\n",
        ")\r\n",
        "\r\n",
        "\r\n",
        "model_xgb.fit(X_train, y_train);"
      ],
      "execution_count": 80,
      "outputs": []
    },
    {
      "cell_type": "code",
      "metadata": {
        "id": "F1h0kIr-z7NN"
      },
      "source": [
        ""
      ],
      "execution_count": 80,
      "outputs": []
    },
    {
      "cell_type": "markdown",
      "metadata": {
        "id": "H6giichb8pUD"
      },
      "source": [
        "##Check Metrics"
      ]
    },
    {
      "cell_type": "code",
      "metadata": {
        "id": "vcrgfELWhSnU",
        "colab": {
          "base_uri": "https://localhost:8080/"
        },
        "outputId": "8b636758-4e8a-4b19-894c-d656fb522237"
      },
      "source": [
        "#Comparing model accuracy\r\n",
        "\r\n",
        "#Model_lr\r\n",
        "print('Logistic Regression Model')\r\n",
        "print('Training accuracy:', model_lr.score(X_train, y_train))\r\n",
        "print('Validation accuracy:', model_lr.score(X_val, y_val), '\\n')\r\n",
        "\r\n",
        "#Model_rf\r\n",
        "print('Random Forest Model')\r\n",
        "print('Training accuracy:', model_rf.score(X_train, y_train))\r\n",
        "print('Validation accuracy:', model_rf.score(X_val, y_val), '\\n')\r\n",
        "\r\n",
        "#Model_xgb\r\n",
        "print('XGB Model')\r\n",
        "print('Training accuracy:', model_xgb.score(X_train, y_train))\r\n",
        "print('Validation accuracy:', model_xgb.score(X_val, y_val))"
      ],
      "execution_count": 81,
      "outputs": [
        {
          "output_type": "stream",
          "text": [
            "Logistic Regression Model\n",
            "Training accuracy: 0.5154296875\n",
            "Validation accuracy: 0.5046875 \n",
            "\n",
            "Random Forest Model\n",
            "Training accuracy: 1.0\n",
            "Validation accuracy: 0.6125 \n",
            "\n",
            "XGB Model\n",
            "Training accuracy: 0.6953125\n",
            "Validation accuracy: 0.60234375\n"
          ],
          "name": "stdout"
        }
      ]
    },
    {
      "cell_type": "code",
      "metadata": {
        "id": "QLFR8GqFAhcS",
        "colab": {
          "base_uri": "https://localhost:8080/"
        },
        "outputId": "229141d9-bc96-4361-bffb-2ff1d3c3d330"
      },
      "source": [
        "#Generating classification reports for each model\r\n",
        "\r\n",
        "print('Classification Reports \\n')\r\n",
        "print('Logistic Regression')\r\n",
        "print(classification_report(y_val, model_lr.predict(X_val)), '\\n\\n')\r\n",
        "\r\n",
        "print('Random Forest')\r\n",
        "print(classification_report(y_val, model_rf.predict(X_val)), '\\n\\n')\r\n",
        "\r\n",
        "print('XGBClassifer')\r\n",
        "print(classification_report(y_val, model_xgb.predict(X_val)), '\\n')"
      ],
      "execution_count": 82,
      "outputs": [
        {
          "output_type": "stream",
          "text": [
            "Classification Reports \n",
            "\n",
            "Logistic Regression\n",
            "              precision    recall  f1-score   support\n",
            "\n",
            "         60s       0.63      0.70      0.66       328\n",
            "         70s       0.37      0.30      0.33       321\n",
            "         80s       0.43      0.40      0.41       317\n",
            "         90s       0.55      0.61      0.58       314\n",
            "\n",
            "    accuracy                           0.50      1280\n",
            "   macro avg       0.49      0.50      0.50      1280\n",
            "weighted avg       0.49      0.50      0.50      1280\n",
            " \n",
            "\n",
            "\n",
            "Random Forest\n",
            "              precision    recall  f1-score   support\n",
            "\n",
            "         60s       0.74      0.74      0.74       328\n",
            "         70s       0.50      0.50      0.50       321\n",
            "         80s       0.57      0.48      0.52       317\n",
            "         90s       0.62      0.73      0.67       314\n",
            "\n",
            "    accuracy                           0.61      1280\n",
            "   macro avg       0.61      0.61      0.61      1280\n",
            "weighted avg       0.61      0.61      0.61      1280\n",
            " \n",
            "\n",
            "\n",
            "XGBClassifer\n",
            "              precision    recall  f1-score   support\n",
            "\n",
            "         60s       0.75      0.73      0.74       328\n",
            "         70s       0.53      0.41      0.46       321\n",
            "         80s       0.56      0.50      0.53       317\n",
            "         90s       0.57      0.76      0.65       314\n",
            "\n",
            "    accuracy                           0.60      1280\n",
            "   macro avg       0.60      0.60      0.60      1280\n",
            "weighted avg       0.60      0.60      0.60      1280\n",
            " \n",
            "\n"
          ],
          "name": "stdout"
        }
      ]
    },
    {
      "cell_type": "code",
      "metadata": {
        "id": "FBRA6JC4IJ32",
        "colab": {
          "base_uri": "https://localhost:8080/",
          "height": 574
        },
        "outputId": "13ed3d56-a607-4585-bf50-2bfd322e93d1"
      },
      "source": [
        "#Confusion Matrix\r\n",
        "fig, ax = plt.subplots(figsize= (10,10))\r\n",
        "plot_confusion_matrix(model_xgb, X_val, y_val, ax=ax);"
      ],
      "execution_count": 83,
      "outputs": [
        {
          "output_type": "display_data",
          "data": {
            "image/png": "[encoded data removed]",
            "text/plain": [
              "<Figure size 720x720 with 2 Axes>"
            ]
          },
          "metadata": {
            "tags": []
          }
        }
      ]
    },
    {
      "cell_type": "markdown",
      "metadata": {
        "id": "rG13cwO98sRO"
      },
      "source": [
        "##Tune Model"
      ]
    },
    {
      "cell_type": "code",
      "metadata": {
        "id": "_6nusZ0f8ulK"
      },
      "source": [
        ""
      ],
      "execution_count": 83,
      "outputs": []
    },
    {
      "cell_type": "markdown",
      "metadata": {
        "id": "Lx9zJFgEZk2v"
      },
      "source": [
        "## Communicate Results"
      ]
    },
    {
      "cell_type": "code",
      "metadata": {
        "id": "IKot0bfCkntE"
      },
      "source": [
        "perm_imp = permutation_importance(\r\n",
        "    model_xgb,\r\n",
        "    X_val, # Always use your VALIDATION set\r\n",
        "    y_val, \r\n",
        "    n_jobs=-1,\r\n",
        "    random_state=42)"
      ],
      "execution_count": 84,
      "outputs": []
    },
    {
      "cell_type": "code",
      "metadata": {
        "id": "l6GUwSQ-k_cq"
      },
      "source": [
        "data = {'importances_mean' : perm_imp['importances_mean'],\r\n",
        "        'importances_std' : perm_imp['importances_std']}\r\n",
        "\r\n",
        "df = pd.DataFrame(data, index=X_val.columns)\r\n",
        "df.sort_values(by='importances_mean', inplace=True)"
      ],
      "execution_count": 85,
      "outputs": []
    },
    {
      "cell_type": "code",
      "metadata": {
        "id": "7xKkZ0fIlApT",
        "colab": {
          "base_uri": "https://localhost:8080/",
          "height": 295
        },
        "outputId": "8c08291c-4be3-462f-e81a-bd19e48845c5"
      },
      "source": [
        "df['importances_mean'].tail(10).plot(kind='barh')\r\n",
        "plt.xlabel('Importance (drop in accuracy)')\r\n",
        "plt.ylabel('Feature')\r\n",
        "plt.title('Permutation importance for model_xgb');"
      ],
      "execution_count": 86,
      "outputs": [
        {
          "output_type": "display_data",
          "data": {
            "image/png": "[encoded data removed]",
            "text/plain": [
              "<Figure size 432x288 with 1 Axes>"
            ]
          },
          "metadata": {
            "tags": []
          }
        }
      ]
    },
    {
      "cell_type": "code",
      "metadata": {
        "colab": {
          "base_uri": "https://localhost:8080/"
        },
        "id": "oPwAbcus-wKU",
        "outputId": "8c8682f7-a2d0-429a-8aa0-5daf7df34bfc"
      },
      "source": [
        "#Final Model Accuracy\r\n",
        "print(classification_report(y_test, model_xgb.predict(X_test)))"
      ],
      "execution_count": 87,
      "outputs": [
        {
          "output_type": "stream",
          "text": [
            "              precision    recall  f1-score   support\n",
            "\n",
            "         60s       0.79      0.77      0.78       425\n",
            "         70s       0.53      0.43      0.47       379\n",
            "         80s       0.57      0.47      0.52       397\n",
            "         90s       0.59      0.81      0.68       399\n",
            "\n",
            "    accuracy                           0.63      1600\n",
            "   macro avg       0.62      0.62      0.61      1600\n",
            "weighted avg       0.62      0.63      0.62      1600\n",
            "\n"
          ],
          "name": "stdout"
        }
      ]
    }
  ]
}